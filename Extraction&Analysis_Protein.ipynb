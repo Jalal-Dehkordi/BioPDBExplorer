{
  "nbformat": 4,
  "nbformat_minor": 0,
  "metadata": {
    "colab": {
      "private_outputs": true,
      "provenance": []
    },
    "kernelspec": {
      "name": "python3",
      "display_name": "Python 3"
    },
    "language_info": {
      "name": "python"
    }
  },
  "cells": [
    {
      "cell_type": "code",
      "source": [
        "from google.colab import drive\n",
        "drive.mount('/content/drive')\n"
      ],
      "metadata": {
        "id": "1iJI02XJra6H"
      },
      "execution_count": null,
      "outputs": []
    },
    {
      "cell_type": "markdown",
      "source": [
        "**# This code demonstrates protein structure extraction of type II proteins and parsing operations.**"
      ],
      "metadata": {
        "id": "nFp597Vuu_V9"
      }
    },
    {
      "cell_type": "markdown",
      "source": [
        "Import of required libraries"
      ],
      "metadata": {
        "id": "PM_wmm6NvNzZ"
      }
    },
    {
      "cell_type": "code",
      "source": [
        "import os\n",
        "import numpy as np\n",
        "import gzip, shutil\n",
        "from Bio.Data.IUPACData import protein_letters_3to1"
      ],
      "metadata": {
        "id": "ML6W-B0gpNu3"
      },
      "execution_count": null,
      "outputs": []
    },
    {
      "cell_type": "markdown",
      "source": [
        "Function to generate FASTA file from input file"
      ],
      "metadata": {
        "id": "2lnLXBfyvT5s"
      }
    },
    {
      "cell_type": "code",
      "source": [
        "def generate_fasta(file_name):\n",
        "    seq = \"\"\n",
        "    with open(file_name, \"r\") as fin:\n",
        "        for line in fin:\n",
        "            if line.startswith('SEQRES'):\n",
        "                split_seq = line.split()\n",
        "                split_seq = split_seq[4:]  # remove initial data until protein codes\n",
        "                for item in split_seq:\n",
        "                    seq += str(amino_acid_dic.get(item.capitalize()))\n",
        "\n",
        "    with open(\"../output/fasta/\" + file_name + '.fasta', \"w\") as fout:\n",
        "        fout.write(seq)\n",
        "    return seq"
      ],
      "metadata": {
        "id": "_Vib1DdipN01"
      },
      "execution_count": null,
      "outputs": []
    },
    {
      "cell_type": "markdown",
      "source": [
        "Function to generate secondary structure (SS) files"
      ],
      "metadata": {
        "id": "asxpeJPkvhRb"
      }
    },
    {
      "cell_type": "code",
      "source": [
        "def generate_ss(file_name, seq):\n",
        "    #generate amino acid sequence\n",
        "    amino_acid_seq = \"\"\n",
        "    seq_len = len(seq)\n",
        "    amino_acid_seq = amino_acid_seq.ljust(seq_len, \"C\")\n",
        "    with open(file_name, \"r\") as fin, open(\"../output/ss/\" + file_name + '.ss', \"w\") as fout:\n",
        "        index = 1\n",
        "        for line in fin:\n",
        "            if line.startswith('HELIX') or line.startswith('SHEET'):\n",
        "                fout.write(f\"{index}\\n\")\n",
        "                if line.startswith('HELIX'):\n",
        "                    start = int(line[21:25].strip())\n",
        "                    end = int(line[33:37].strip())\n",
        "                    if not (start > seq_len or end > seq_len or start < 0): #TODO: why some start indexs are - and some numbers are bigger\n",
        "                        fout.write(f\"{start}:{end}\\n\")\n",
        "                        fout.write(f\"{seq[start-1:end-1]}\\n\")\n",
        "                        replacement_string = \"\"\n",
        "                        replacement_string = replacement_string.ljust(end - start, \"H\")\n",
        "                        amino_acid_seq = amino_acid_seq[:start-1] + replacement_string + amino_acid_seq[end-1:]\n",
        "                else:\n",
        "                    start = int(line[22:26].strip())\n",
        "                    end = int(line[33:37].strip())\n",
        "                    if not (start > seq_len or end > seq_len or start < 0):\n",
        "                        replacement_string = \"\"\n",
        "                        replacement_string = replacement_string.ljust(end - start, \"B\")\n",
        "                        fout.write(f\"{start}:{end}\\n\")\n",
        "                        fout.write(f\"{seq[start-1:end-1]}\\n\")\n",
        "                        amino_acid_seq = amino_acid_seq[:start-1] + replacement_string + amino_acid_seq[end-1:]\n",
        "                fout.write(f\"{line[0:6]}\\n\")\n",
        "                index += 1\n",
        "\n",
        "    with open(\"../output/AA-SS.txt\", \"a\") as fout:\n",
        "        fout.write(f\"{seq}\\n\")\n",
        "        fout.write(f\"{amino_acid_seq}\\n\\n\\n\")\n",
        "    calculate_frequency(seq, amino_acid_seq)\n"
      ],
      "metadata": {
        "id": "ocZZ0Hc9pN5B"
      },
      "execution_count": null,
      "outputs": []
    },
    {
      "cell_type": "markdown",
      "source": [
        "Function to calculate amino acid and secondary structure frequencies"
      ],
      "metadata": {
        "id": "7M3ABHOCvs7V"
      }
    },
    {
      "cell_type": "code",
      "source": [
        "def calculate_frequency(seq, amino_acid_seq):\n",
        "    prev_char = \"\"\n",
        "    for i in range(0, len(amino_acid_seq)):\n",
        "        prev_char = prev_char + amino_acid_seq[i]\n",
        "        if len(prev_char) >= 2:\n",
        "            row = prev_char[-2]  # get second to last character\n",
        "            col = prev_char[-1]  # get last character\n",
        "            col = 0 if col == \"H\" else 1 if col == \"B\" else 2\n",
        "            secondary_seq.get(row)[col] += 1\n",
        "\n",
        "        if seq[i] in amino_structure: #check for key existance TODO: check protein names other than 20\n",
        "            if amino_acid_seq[i] == \"H\":\n",
        "                amino_structure.get(seq[i])[0] += 1\n",
        "            elif amino_acid_seq[i] == \"B\":\n",
        "                amino_structure.get(seq[i])[1] += 1\n",
        "            elif amino_acid_seq[i] == \"C\":\n",
        "                amino_structure.get(seq[i])[2] += 1\n"
      ],
      "metadata": {
        "id": "gvKg-kN_pN93"
      },
      "execution_count": null,
      "outputs": []
    },
    {
      "cell_type": "markdown",
      "source": [
        "Function to calculate probabilities of amino acid structure"
      ],
      "metadata": {
        "id": "snehnUm6v0sQ"
      }
    },
    {
      "cell_type": "code",
      "source": [
        "def calculate_structure_probability():\n",
        "    for key in amino_structure:\n",
        "        total_occurrence = np.sum(amino_structure[key])\n",
        "        if total_occurrence != 0:\n",
        "            for i, item in enumerate(amino_structure[key]):\n",
        "                amino_structure[key][i] = round(item/total_occurrence,2)"
      ],
      "metadata": {
        "id": "F0ggk95NpOBu"
      },
      "execution_count": null,
      "outputs": []
    },
    {
      "cell_type": "markdown",
      "source": [
        "Function to calculate probabilities of binary secondary structure sequences"
      ],
      "metadata": {
        "id": "UWAFWwOAv7v0"
      }
    },
    {
      "cell_type": "code",
      "source": [
        "def calculate_binary_seq_probability():\n",
        "    for key in secondary_seq:\n",
        "        total_occurrence = np.sum(secondary_seq[key])\n",
        "        if total_occurrence != 0:\n",
        "            for i, item in enumerate(secondary_seq[key]):\n",
        "                secondary_seq[key][i] = round(item/total_occurrence, 2)"
      ],
      "metadata": {
        "id": "r1aEWTgPpspN"
      },
      "execution_count": null,
      "outputs": []
    },
    {
      "cell_type": "markdown",
      "source": [
        "Function to generate a summary of processed files and results"
      ],
      "metadata": {
        "id": "jWULfzVxwCLO"
      }
    },
    {
      "cell_type": "code",
      "source": [
        "def generate_summary(file_count, file_names, file_lengths):\n",
        "    avg = np.average(file_lengths)\n",
        "    standard_deviation = np.std(file_lengths)\n",
        "    with open(\"../output/summary.txt\", \"w\") as fout:\n",
        "        fout.write(f\"- Total number of processed PDBs: {file_count} \\n\")\n",
        "        fout.write(f\"- Average of processed protein lengths: {avg} \\n\")\n",
        "        fout.write(f\"- Standard deviation of processed protein lengths: {standard_deviation} \\n\")\n",
        "        fout.write(f\"- Names of processed proteins: \\n\")\n",
        "        fout.write(f\"{file_names} \\n\\n\\n\")\n",
        "\n",
        "        # write the probability of the presence of each of the twenty amino acids in each of the three states of the\n",
        "        # type II structure\n",
        "        fout.write(f\"    Helix Sheet coil\\n\")\n",
        "        structure_matrix = str(amino_structure)\n",
        "        structure_matrix = structure_matrix.replace(\", '\", \"\\n\")\n",
        "        fout.write(f\"{structure_matrix[2:]}\\n\\n\\n\")\n",
        "\n",
        "        # write the probability of binary sequences of second type structure elements\n",
        "        fout.write(f\"     H     B      C\\n\")\n",
        "        secondary_seq_matrix = str(secondary_seq)\n",
        "        secondary_seq_matrix = secondary_seq_matrix.replace(\", '\", \"\\n\")\n",
        "        fout.write(secondary_seq_matrix[2:])\n",
        "    print(\"summary file created\")\n"
      ],
      "metadata": {
        "id": "jpu-FaJXpstG"
      },
      "execution_count": null,
      "outputs": []
    },
    {
      "cell_type": "markdown",
      "source": [
        "Dictionary mapping three-letter amino acid codes to one-letter codes\n",
        "\n",
        "\n",
        "Dictionary to store amino acid structure frequencies\n",
        "\n",
        "\n",
        "Dictionary to store secondary structure sequence frequencies"
      ],
      "metadata": {
        "id": "KoXjAw7XwK8D"
      }
    },
    {
      "cell_type": "code",
      "source": [
        "amino_acid_dic = {\n",
        "        \"Ala\": \"A\",\n",
        "        \"Arg\": \"R\",\n",
        "        \"Asn\": \"N\",\n",
        "        \"Asp\": \"D\",\n",
        "        \"Cys\": \"C\",\n",
        "        \"Glu\": \"E\",\n",
        "        \"Gln\": \"Q\",\n",
        "        \"Gly\": \"G\",\n",
        "        \"His\": \"H\",\n",
        "        \"Ile\": \"I\",\n",
        "        \"Leu\": \"L\",\n",
        "        \"Lys\": \"K\",\n",
        "        \"Met\": \"M\",\n",
        "        \"Phe\": \"F\",\n",
        "        \"Pro\": \"P\",\n",
        "        \"Ser\": \"S\",\n",
        "        \"Thr\": \"T\",\n",
        "        \"Trp\": \"W\",\n",
        "        \"Tyr\": \"Y\",\n",
        "        \"Val\": \"V\",\n",
        "        \"Ace\": \"X\",\n",
        "        \"Dm0\": \"K\",\n",
        "}\n",
        "\n",
        "amino_structure = {\n",
        "    # The first number shows that amino frequency in helix type, the second and third numbers are beta and coil, respectively\n",
        "    \"A\": [0, 0, 0],\n",
        "    \"R\": [0, 0, 0],\n",
        "    \"N\": [0, 0, 0],\n",
        "    \"D\": [0, 0, 0],\n",
        "    \"C\": [0, 0, 0],\n",
        "    \"Q\": [0, 0, 0],\n",
        "    \"E\": [0, 0, 0],\n",
        "    \"G\": [0, 0, 0],\n",
        "    \"H\": [0, 0, 0],\n",
        "    \"I\": [0, 0, 0],\n",
        "    \"L\": [0, 0, 0],\n",
        "    \"K\": [0, 0, 0],\n",
        "    \"M\": [0, 0, 0],\n",
        "    \"F\": [0, 0, 0],\n",
        "    \"P\": [0, 0, 0],\n",
        "    \"S\": [0, 0, 0],\n",
        "    \"T\": [0, 0, 0],\n",
        "    \"W\": [0, 0, 0],\n",
        "    \"Y\": [0, 0, 0],\n",
        "    \"V\": [0, 0, 0],\n",
        "    \"X\": [0, 0, 0],\n",
        "}\n",
        "\n",
        "secondary_seq = {\n",
        "    # in array The first number indicates helix, the second and third numbers are beta and coil, respectively\n",
        "    \"H\": [0, 0, 0],\n",
        "    \"B\": [0, 0, 0],\n",
        "    \"C\": [0, 0, 0],\n",
        "}\n"
      ],
      "metadata": {
        "id": "22dGW6qepsxc"
      },
      "execution_count": null,
      "outputs": []
    },
    {
      "cell_type": "markdown",
      "source": [
        "Create output directories if they don't exist"
      ],
      "metadata": {
        "id": "t6uWFgP2wv0i"
      }
    },
    {
      "cell_type": "code",
      "source": [
        "#make output directories\n",
        "if not os.path.exists(\"/content/drive/MyDrive/output\"):\n",
        "    os.makedirs(\"/content/drive/MyDrive/output\")\n",
        "    if not os.path.exists(\"/content/drive/MyDrive/output/fasta\"):\n",
        "        os.makedirs(\"/content/drive/MyDrive/output/fasta\")\n",
        "    if not os.path.exists(\"/content/drive/MyDrive/output/ss\"):\n",
        "        os.makedirs(\"/content/drive/MyDrive/output/ss\")\n"
      ],
      "metadata": {
        "id": "F2SJ5Eq3wpNe"
      },
      "execution_count": null,
      "outputs": []
    },
    {
      "cell_type": "markdown",
      "source": [
        "Function to extract and process gzipped files"
      ],
      "metadata": {
        "id": "V2ktePb6w1N_"
      }
    },
    {
      "cell_type": "code",
      "source": [
        "file_names = []\n",
        "file_lengths = []\n",
        "def gz_extract(directory):\n",
        "    extension = \".gz\"\n",
        "    os.chdir(directory)\n",
        "    file_count = 0\n",
        "    for item in os.listdir(\".\"):  # loop through items in dataset dir\n",
        "        file_count += 1\n",
        "        if item.endswith(extension):  # check for \".gz\" extension\n",
        "            #decompress the pdf file\n",
        "            gz_name = os.path.abspath(item)  # get full path of files\n",
        "            file_name = (os.path.basename(gz_name)).rsplit('.', 1)[0]  # get file name for file within\n",
        "            with gzip.open(gz_name, \"rb\") as f_in, open(file_name, \"wb\") as f_out:\n",
        "                shutil.copyfileobj(f_in, f_out)\n",
        "            os.remove(gz_name)  # delete zipped file\n",
        "\n",
        "            # process the pdf file\n",
        "            sequence = generate_fasta(file_name)\n",
        "            file_lengths.append(len(sequence))\n",
        "            generate_ss(file_name, sequence)\n",
        "            file_name = file_name.split('.', 1)[0]\n",
        "            file_names.append(file_name[3:])\n",
        "    return file_count"
      ],
      "metadata": {
        "id": "0qaND9xXps1o"
      },
      "execution_count": null,
      "outputs": []
    },
    {
      "cell_type": "markdown",
      "source": [
        "Extract and process files in the specified directory\n",
        "\n",
        "Calculate amino acid structure probabilities\n",
        "\n",
        "Calculate binary secondary structure sequence probabilities\n",
        "\n",
        "Generate a summary file containing processed file information and results"
      ],
      "metadata": {
        "id": "2H4pZxI1w-tk"
      }
    },
    {
      "cell_type": "code",
      "source": [
        "processed_file_count = gz_extract('/content/drive/MyDrive/dataset')\n",
        "calculate_structure_probability()\n",
        "calculate_binary_seq_probability()\n",
        "generate_summary(processed_file_count, file_names, file_lengths)"
      ],
      "metadata": {
        "id": "exd6R9CVp-Qk"
      },
      "execution_count": null,
      "outputs": []
    }
  ]
}